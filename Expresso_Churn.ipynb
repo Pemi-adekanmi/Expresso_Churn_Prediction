{
  "nbformat": 4,
  "nbformat_minor": 0,
  "metadata": {
    "colab": {
      "name": "Expresso Churn.ipynb",
      "provenance": [],
      "collapsed_sections": [],
      "authorship_tag": "ABX9TyOmJUclARc1D0oHBk6PMZsj"
    },
    "kernelspec": {
      "name": "python3",
      "display_name": "Python 3"
    },
    "language_info": {
      "name": "python"
    }
  },
  "cells": [
    {
      "cell_type": "code",
      "metadata": {
        "id": "3Sl2GZUctQ4e"
      },
      "source": [
        "!pip install catboost\n",
        "!pip install ipywidgets\n",
        "!jupyter nbextension enable --py widgetsnbextension"
      ],
      "execution_count": null,
      "outputs": []
    },
    {
      "cell_type": "markdown",
      "metadata": {
        "id": "ghlzO7pg6l9-"
      },
      "source": [
        "### **Libraries**"
      ]
    },
    {
      "cell_type": "code",
      "metadata": {
        "id": "wD04X7Inr1W4"
      },
      "source": [
        "import numpy as np\n",
        "import pandas as pd\n",
        "pd.set_option('display.max_columns', 200)\n",
        "import seaborn as sns\n",
        "import matplotlib.pyplot as plt\n",
        "from sklearn.preprocessing import StandardScaler, RobustScaler\n",
        "import warnings\n",
        "import random\n",
        "warnings.simplefilter('ignore')\n",
        "import catboost as cat\n",
        "from catboost import CatBoostClassifier\n",
        "import lightgbm as lgb\n",
        "from sklearn.model_selection import train_test_split, StratifiedKFold, KFold\n",
        "from sklearn.metrics import log_loss, plot_confusion_matrix, plot_roc_curve,auc, accuracy_score, mean_squared_error\n"
      ],
      "execution_count": null,
      "outputs": []
    },
    {
      "cell_type": "code",
      "metadata": {
        "id": "cRWUiLXNtsgT"
      },
      "source": [
        "train = pd.read_csv('train.csv')\n",
        "test = pd.read_csv('Test.csv')\n",
        "VD = pd.read_csv('VariableDefinitions.csv')\n",
        "result = pd.read_csv('sample_submission.csv')"
      ],
      "execution_count": null,
      "outputs": []
    },
    {
      "cell_type": "code",
      "metadata": {
        "colab": {
          "base_uri": "https://localhost:8080/",
          "height": 700
        },
        "id": "7nlEr-G_t0Pa",
        "outputId": "9a0d041f-8ccd-4e67-9934-b917cf4dd1a3"
      },
      "source": [
        "VD"
      ],
      "execution_count": null,
      "outputs": [
        {
          "output_type": "execute_result",
          "data": {
            "text/html": [
              "<div>\n",
              "<style scoped>\n",
              "    .dataframe tbody tr th:only-of-type {\n",
              "        vertical-align: middle;\n",
              "    }\n",
              "\n",
              "    .dataframe tbody tr th {\n",
              "        vertical-align: top;\n",
              "    }\n",
              "\n",
              "    .dataframe thead th {\n",
              "        text-align: right;\n",
              "    }\n",
              "</style>\n",
              "<table border=\"1\" class=\"dataframe\">\n",
              "  <thead>\n",
              "    <tr style=\"text-align: right;\">\n",
              "      <th></th>\n",
              "      <th>Variable Definitions</th>\n",
              "      <th>Unnamed: 1</th>\n",
              "      <th>Unnamed: 2</th>\n",
              "    </tr>\n",
              "  </thead>\n",
              "  <tbody>\n",
              "    <tr>\n",
              "      <th>0</th>\n",
              "      <td>NaN</td>\n",
              "      <td>French</td>\n",
              "      <td>English</td>\n",
              "    </tr>\n",
              "    <tr>\n",
              "      <th>1</th>\n",
              "      <td>NaN</td>\n",
              "      <td>Le dataset churn comprend 19 variables dont 15...</td>\n",
              "      <td>The churn dataset includes 19 variables includ...</td>\n",
              "    </tr>\n",
              "    <tr>\n",
              "      <th>2</th>\n",
              "      <td>user_id</td>\n",
              "      <td>NaN</td>\n",
              "      <td>NaN</td>\n",
              "    </tr>\n",
              "    <tr>\n",
              "      <th>3</th>\n",
              "      <td>REGION</td>\n",
              "      <td>la localité de chaque client</td>\n",
              "      <td>the location of each client</td>\n",
              "    </tr>\n",
              "    <tr>\n",
              "      <th>4</th>\n",
              "      <td>TENURE</td>\n",
              "      <td>la durée dans le reseau</td>\n",
              "      <td>duration in the network</td>\n",
              "    </tr>\n",
              "    <tr>\n",
              "      <th>5</th>\n",
              "      <td>MONTANT</td>\n",
              "      <td>montant de recharge</td>\n",
              "      <td>top-up amount</td>\n",
              "    </tr>\n",
              "    <tr>\n",
              "      <th>6</th>\n",
              "      <td>FREQUENCE_RECH</td>\n",
              "      <td>nombre de fois que le client a fait une recharge</td>\n",
              "      <td>number of times the customer refilled</td>\n",
              "    </tr>\n",
              "    <tr>\n",
              "      <th>7</th>\n",
              "      <td>REVENUE</td>\n",
              "      <td>revenu mensuel de chaque client</td>\n",
              "      <td>monthly income of each client</td>\n",
              "    </tr>\n",
              "    <tr>\n",
              "      <th>8</th>\n",
              "      <td>ARPU_SEGMENT</td>\n",
              "      <td>revenu sur 90 jours/3</td>\n",
              "      <td>income over 90 days / 3</td>\n",
              "    </tr>\n",
              "    <tr>\n",
              "      <th>9</th>\n",
              "      <td>FREQUENCE</td>\n",
              "      <td>nombre de fois que client à fait un revenu</td>\n",
              "      <td>number of times the client has made an income</td>\n",
              "    </tr>\n",
              "    <tr>\n",
              "      <th>10</th>\n",
              "      <td>DATA_VOLUME</td>\n",
              "      <td>nombre de connexions</td>\n",
              "      <td>number of connections</td>\n",
              "    </tr>\n",
              "    <tr>\n",
              "      <th>11</th>\n",
              "      <td>ON_NET</td>\n",
              "      <td>appel inter expresso</td>\n",
              "      <td>inter expresso call</td>\n",
              "    </tr>\n",
              "    <tr>\n",
              "      <th>12</th>\n",
              "      <td>ORANGE</td>\n",
              "      <td>appel vers orange</td>\n",
              "      <td>call to orange</td>\n",
              "    </tr>\n",
              "    <tr>\n",
              "      <th>13</th>\n",
              "      <td>TIGO</td>\n",
              "      <td>appel vers Tigo</td>\n",
              "      <td>call to Tigo</td>\n",
              "    </tr>\n",
              "    <tr>\n",
              "      <th>14</th>\n",
              "      <td>ZONE1</td>\n",
              "      <td>appel vers les zone1</td>\n",
              "      <td>call to zones1</td>\n",
              "    </tr>\n",
              "    <tr>\n",
              "      <th>15</th>\n",
              "      <td>ZONE2</td>\n",
              "      <td>appel vers les zone2</td>\n",
              "      <td>call to zones2</td>\n",
              "    </tr>\n",
              "    <tr>\n",
              "      <th>16</th>\n",
              "      <td>MRG</td>\n",
              "      <td>un client qui fait du vas</td>\n",
              "      <td>a client who is going</td>\n",
              "    </tr>\n",
              "    <tr>\n",
              "      <th>17</th>\n",
              "      <td>REGULARITY</td>\n",
              "      <td>nombre de fois que le client est actif pendant...</td>\n",
              "      <td>number of times the client is active for 90 days</td>\n",
              "    </tr>\n",
              "    <tr>\n",
              "      <th>18</th>\n",
              "      <td>TOP_PACK</td>\n",
              "      <td>les pack les plus activés</td>\n",
              "      <td>the most active packs</td>\n",
              "    </tr>\n",
              "    <tr>\n",
              "      <th>19</th>\n",
              "      <td>FREQ_TOP_PACK</td>\n",
              "      <td>nombre de fois que le client a activé les pack...</td>\n",
              "      <td>number of times the client has activated the t...</td>\n",
              "    </tr>\n",
              "    <tr>\n",
              "      <th>20</th>\n",
              "      <td>CHURN</td>\n",
              "      <td>variable à predire - Target</td>\n",
              "      <td>variable to predict - Target</td>\n",
              "    </tr>\n",
              "  </tbody>\n",
              "</table>\n",
              "</div>"
            ],
            "text/plain": [
              "   Variable Definitions                                         Unnamed: 1  \\\n",
              "0                   NaN                                             French   \n",
              "1                   NaN  Le dataset churn comprend 19 variables dont 15...   \n",
              "2               user_id                                                NaN   \n",
              "3                REGION                       la localité de chaque client   \n",
              "4                TENURE                            la durée dans le reseau   \n",
              "5               MONTANT                                montant de recharge   \n",
              "6        FREQUENCE_RECH   nombre de fois que le client a fait une recharge   \n",
              "7               REVENUE                    revenu mensuel de chaque client   \n",
              "8          ARPU_SEGMENT                              revenu sur 90 jours/3   \n",
              "9             FREQUENCE         nombre de fois que client à fait un revenu   \n",
              "10          DATA_VOLUME                               nombre de connexions   \n",
              "11               ON_NET                               appel inter expresso   \n",
              "12               ORANGE                                  appel vers orange   \n",
              "13                 TIGO                                    appel vers Tigo   \n",
              "14                ZONE1                               appel vers les zone1   \n",
              "15                ZONE2                               appel vers les zone2   \n",
              "16                  MRG                          un client qui fait du vas   \n",
              "17           REGULARITY  nombre de fois que le client est actif pendant...   \n",
              "18             TOP_PACK                          les pack les plus activés   \n",
              "19        FREQ_TOP_PACK  nombre de fois que le client a activé les pack...   \n",
              "20                CHURN                        variable à predire - Target   \n",
              "\n",
              "                                           Unnamed: 2  \n",
              "0                                             English  \n",
              "1   The churn dataset includes 19 variables includ...  \n",
              "2                                                 NaN  \n",
              "3                         the location of each client  \n",
              "4                             duration in the network  \n",
              "5                                       top-up amount  \n",
              "6               number of times the customer refilled  \n",
              "7                       monthly income of each client  \n",
              "8                             income over 90 days / 3  \n",
              "9       number of times the client has made an income  \n",
              "10                              number of connections  \n",
              "11                                inter expresso call  \n",
              "12                                     call to orange  \n",
              "13                                       call to Tigo  \n",
              "14                                     call to zones1  \n",
              "15                                     call to zones2  \n",
              "16                              a client who is going  \n",
              "17   number of times the client is active for 90 days  \n",
              "18                              the most active packs  \n",
              "19  number of times the client has activated the t...  \n",
              "20                       variable to predict - Target  "
            ]
          },
          "metadata": {
            "tags": []
          },
          "execution_count": 68
        }
      ]
    },
    {
      "cell_type": "markdown",
      "metadata": {
        "id": "Cs219RqZ-6zA"
      },
      "source": [
        "### **Feature engineering**"
      ]
    },
    {
      "cell_type": "code",
      "metadata": {
        "colab": {
          "base_uri": "https://localhost:8080/",
          "height": 295
        },
        "id": "D0pxrnNsuA0I",
        "outputId": "8e0015ef-4222-4973-d29c-58d51cf473dc"
      },
      "source": [
        "sns.countplot(train.CHURN)\n",
        "plt.title('CHURN (Target) Distribution');"
      ],
      "execution_count": null,
      "outputs": [
        {
          "output_type": "display_data",
          "data": {
            "image/png": "[encoded data removed]",
            "text/plain": [
              "<Figure size 432x288 with 1 Axes>"
            ]
          },
          "metadata": {
            "tags": [],
            "needs_background": "light"
          }
        }
      ]
    },
    {
      "cell_type": "code",
      "metadata": {
        "colab": {
          "base_uri": "https://localhost:8080/"
        },
        "id": "4m09KllPuhUt",
        "outputId": "8e440833-1d1e-4a54-b9fb-64923e8bb61c"
      },
      "source": [
        "train.isnull().sum()"
      ],
      "execution_count": null,
      "outputs": [
        {
          "output_type": "execute_result",
          "data": {
            "text/plain": [
              "user_id                0\n",
              "REGION            157520\n",
              "TENURE                 0\n",
              "MONTANT           140277\n",
              "FREQUENCE_RECH    140277\n",
              "REVENUE           134663\n",
              "ARPU_SEGMENT      134663\n",
              "FREQUENCE         134663\n",
              "DATA_VOLUME       196854\n",
              "ON_NET            145819\n",
              "ORANGE            166317\n",
              "TIGO              239386\n",
              "ZONE1             368310\n",
              "ZONE2             374487\n",
              "MRG                    0\n",
              "REGULARITY             0\n",
              "TOP_PACK          167329\n",
              "FREQ_TOP_PACK     167329\n",
              "CHURN                  0\n",
              "dtype: int64"
            ]
          },
          "metadata": {
            "tags": []
          },
          "execution_count": 70
        }
      ]
    },
    {
      "cell_type": "markdown",
      "metadata": {
        "id": "5XuMAdEHL1M8"
      },
      "source": [
        "To check the correlation between the features and the target variable"
      ]
    },
    {
      "cell_type": "code",
      "metadata": {
        "colab": {
          "base_uri": "https://localhost:8080/",
          "height": 336
        },
        "id": "6g3iAG_luruc",
        "outputId": "faf09543-d6ed-4de5-cd87-3859f24e66f0"
      },
      "source": [
        "train.corr('spearman')['CHURN'][:-1].plot.barh(figsize=(8,5), \n",
        "                                          title='Correlation of Numerical Features with the Target variable');"
      ],
      "execution_count": null,
      "outputs": [
        {
          "output_type": "display_data",
          "data": {
            "image/png": "[encoded data removed]",
            "text/plain": [
              "<Figure size 576x360 with 1 Axes>"
            ]
          },
          "metadata": {
            "tags": [],
            "needs_background": "light"
          }
        }
      ]
    },
    {
      "cell_type": "markdown",
      "metadata": {
        "id": "7OPmvBfBI5BC"
      },
      "source": [
        "Checking for outliers"
      ]
    },
    {
      "cell_type": "code",
      "metadata": {
        "colab": {
          "base_uri": "https://localhost:8080/",
          "height": 281
        },
        "id": "QJDYoh8rqmPM",
        "outputId": "d04e42d7-8e4b-4c74-e652-f8d126043f90"
      },
      "source": [
        "train[['MONTANT', 'REVENUE']].plot.box(title= 'Check outlier')\n",
        "plt.show()\n"
      ],
      "execution_count": null,
      "outputs": [
        {
          "output_type": "display_data",
          "data": {
            "image/png": "[encoded data removed]",
            "text/plain": [
              "<Figure size 432x288 with 1 Axes>"
            ]
          },
          "metadata": {
            "tags": [],
            "needs_background": "light"
          }
        }
      ]
    },
    {
      "cell_type": "markdown",
      "metadata": {
        "id": "OYHKrk7ILM8A"
      },
      "source": [
        "FIlling Missing values"
      ]
    },
    {
      "cell_type": "code",
      "metadata": {
        "id": "8YHS7zFTK6hH"
      },
      "source": [
        "train.fillna(-999, inplace=True)\n",
        "test.fillna(-999, inplace=True)"
      ],
      "execution_count": null,
      "outputs": []
    },
    {
      "cell_type": "code",
      "metadata": {
        "colab": {
          "base_uri": "https://localhost:8080/",
          "height": 213
        },
        "id": "RDXFHiW1rRi8",
        "outputId": "c88c689e-472d-4a22-b5a6-dc0a312cb576"
      },
      "source": [
        "train['is_train'] = 1\n",
        "test['is_train'] = 0\n",
        "all_data = pd.concat([train, test])\n",
        "all_data.tail(3)"
      ],
      "execution_count": null,
      "outputs": [
        {
          "output_type": "execute_result",
          "data": {
            "text/html": [
              "<div>\n",
              "<style scoped>\n",
              "    .dataframe tbody tr th:only-of-type {\n",
              "        vertical-align: middle;\n",
              "    }\n",
              "\n",
              "    .dataframe tbody tr th {\n",
              "        vertical-align: top;\n",
              "    }\n",
              "\n",
              "    .dataframe thead th {\n",
              "        text-align: right;\n",
              "    }\n",
              "</style>\n",
              "<table border=\"1\" class=\"dataframe\">\n",
              "  <thead>\n",
              "    <tr style=\"text-align: right;\">\n",
              "      <th></th>\n",
              "      <th>user_id</th>\n",
              "      <th>REGION</th>\n",
              "      <th>TENURE</th>\n",
              "      <th>MONTANT</th>\n",
              "      <th>FREQUENCE_RECH</th>\n",
              "      <th>REVENUE</th>\n",
              "      <th>ARPU_SEGMENT</th>\n",
              "      <th>FREQUENCE</th>\n",
              "      <th>DATA_VOLUME</th>\n",
              "      <th>ON_NET</th>\n",
              "      <th>ORANGE</th>\n",
              "      <th>TIGO</th>\n",
              "      <th>ZONE1</th>\n",
              "      <th>ZONE2</th>\n",
              "      <th>MRG</th>\n",
              "      <th>REGULARITY</th>\n",
              "      <th>TOP_PACK</th>\n",
              "      <th>FREQ_TOP_PACK</th>\n",
              "      <th>CHURN</th>\n",
              "      <th>is_train</th>\n",
              "    </tr>\n",
              "  </thead>\n",
              "  <tbody>\n",
              "    <tr>\n",
              "      <th>99997</th>\n",
              "      <td>a2f84faffbc995bd0e2d726fa4ffdb93f11646ed</td>\n",
              "      <td>-999</td>\n",
              "      <td>I 18-21 month</td>\n",
              "      <td>1800.0</td>\n",
              "      <td>7.0</td>\n",
              "      <td>1799.0</td>\n",
              "      <td>600.0</td>\n",
              "      <td>9.0</td>\n",
              "      <td>81.0</td>\n",
              "      <td>2.0</td>\n",
              "      <td>0.0</td>\n",
              "      <td>-999.0</td>\n",
              "      <td>-999.0</td>\n",
              "      <td>-999.0</td>\n",
              "      <td>NO</td>\n",
              "      <td>60</td>\n",
              "      <td>Data:200F=Unlimited,24H</td>\n",
              "      <td>5.0</td>\n",
              "      <td>NaN</td>\n",
              "      <td>0</td>\n",
              "    </tr>\n",
              "    <tr>\n",
              "      <th>99998</th>\n",
              "      <td>afa76e894df4201fc77eb714de7d1f262299611a</td>\n",
              "      <td>THIES</td>\n",
              "      <td>K &gt; 24 month</td>\n",
              "      <td>2500.0</td>\n",
              "      <td>4.0</td>\n",
              "      <td>2515.0</td>\n",
              "      <td>838.0</td>\n",
              "      <td>4.0</td>\n",
              "      <td>-999.0</td>\n",
              "      <td>43.0</td>\n",
              "      <td>106.0</td>\n",
              "      <td>4.0</td>\n",
              "      <td>-999.0</td>\n",
              "      <td>-999.0</td>\n",
              "      <td>NO</td>\n",
              "      <td>16</td>\n",
              "      <td>All-net 500F=2000F;5d</td>\n",
              "      <td>5.0</td>\n",
              "      <td>NaN</td>\n",
              "      <td>0</td>\n",
              "    </tr>\n",
              "    <tr>\n",
              "      <th>99999</th>\n",
              "      <td>c08a2d84b87c1f5d4bb318114f508b77aa8e2663</td>\n",
              "      <td>MATAM</td>\n",
              "      <td>K &gt; 24 month</td>\n",
              "      <td>-999.0</td>\n",
              "      <td>-999.0</td>\n",
              "      <td>-999.0</td>\n",
              "      <td>-999.0</td>\n",
              "      <td>-999.0</td>\n",
              "      <td>-999.0</td>\n",
              "      <td>-999.0</td>\n",
              "      <td>-999.0</td>\n",
              "      <td>-999.0</td>\n",
              "      <td>-999.0</td>\n",
              "      <td>-999.0</td>\n",
              "      <td>NO</td>\n",
              "      <td>7</td>\n",
              "      <td>-999</td>\n",
              "      <td>-999.0</td>\n",
              "      <td>NaN</td>\n",
              "      <td>0</td>\n",
              "    </tr>\n",
              "  </tbody>\n",
              "</table>\n",
              "</div>"
            ],
            "text/plain": [
              "                                        user_id REGION         TENURE  \\\n",
              "99997  a2f84faffbc995bd0e2d726fa4ffdb93f11646ed   -999  I 18-21 month   \n",
              "99998  afa76e894df4201fc77eb714de7d1f262299611a  THIES   K > 24 month   \n",
              "99999  c08a2d84b87c1f5d4bb318114f508b77aa8e2663  MATAM   K > 24 month   \n",
              "\n",
              "       MONTANT  FREQUENCE_RECH  REVENUE  ARPU_SEGMENT  FREQUENCE  DATA_VOLUME  \\\n",
              "99997   1800.0             7.0   1799.0         600.0        9.0         81.0   \n",
              "99998   2500.0             4.0   2515.0         838.0        4.0       -999.0   \n",
              "99999   -999.0          -999.0   -999.0        -999.0     -999.0       -999.0   \n",
              "\n",
              "       ON_NET  ORANGE   TIGO  ZONE1  ZONE2 MRG  REGULARITY  \\\n",
              "99997     2.0     0.0 -999.0 -999.0 -999.0  NO          60   \n",
              "99998    43.0   106.0    4.0 -999.0 -999.0  NO          16   \n",
              "99999  -999.0  -999.0 -999.0 -999.0 -999.0  NO           7   \n",
              "\n",
              "                      TOP_PACK  FREQ_TOP_PACK  CHURN  is_train  \n",
              "99997  Data:200F=Unlimited,24H            5.0    NaN         0  \n",
              "99998    All-net 500F=2000F;5d            5.0    NaN         0  \n",
              "99999                     -999         -999.0    NaN         0  "
            ]
          },
          "metadata": {
            "tags": []
          },
          "execution_count": 85
        }
      ]
    },
    {
      "cell_type": "code",
      "metadata": {
        "colab": {
          "base_uri": "https://localhost:8080/",
          "height": 351
        },
        "id": "ixm7oGl2ueWD",
        "outputId": "4b8c4aa1-59e5-490f-db9c-3822c090720f"
      },
      "source": [
        "all_data['REGION'].value_counts().plot.bar()"
      ],
      "execution_count": null,
      "outputs": [
        {
          "output_type": "execute_result",
          "data": {
            "text/plain": [
              "<matplotlib.axes._subplots.AxesSubplot at 0x7fd55b7f89d0>"
            ]
          },
          "metadata": {
            "tags": []
          },
          "execution_count": 86
        },
        {
          "output_type": "display_data",
          "data": {
            "image/png": "[encoded data removed]",
            "text/plain": [
              "<Figure size 432x288 with 1 Axes>"
            ]
          },
          "metadata": {
            "tags": [],
            "needs_background": "light"
          }
        }
      ]
    },
    {
      "cell_type": "code",
      "metadata": {
        "colab": {
          "base_uri": "https://localhost:8080/",
          "height": 331
        },
        "id": "UWAcuWlAuj0N",
        "outputId": "312146b2-b7c9-434c-aadf-e8a07265ce19"
      },
      "source": [
        "all_data['TENURE'].value_counts().plot.bar()\n",
        "plt.show()"
      ],
      "execution_count": null,
      "outputs": [
        {
          "output_type": "display_data",
          "data": {
            "image/png": "[encoded data removed]",
            "text/plain": [
              "<Figure size 432x288 with 1 Axes>"
            ]
          },
          "metadata": {
            "tags": [],
            "needs_background": "light"
          }
        }
      ]
    },
    {
      "cell_type": "markdown",
      "metadata": {
        "id": "KCQV2jAJLYGV"
      },
      "source": [
        "Encoding the Categorical Variables"
      ]
    },
    {
      "cell_type": "code",
      "metadata": {
        "id": "3MlkND2zuucd"
      },
      "source": [
        "#add dummies encoding for the features TENURE and REGION\n",
        "all_data = pd.concat([all_data, pd.get_dummies(all_data['TENURE'], prefix= 'TENURE', drop_first= True)], axis= 1)\n",
        "all_data = pd.concat([all_data, pd.get_dummies(all_data['REGION'], prefix= 'REGION', drop_first= True)], axis= 1)"
      ],
      "execution_count": null,
      "outputs": []
    },
    {
      "cell_type": "code",
      "metadata": {
        "id": "cpAljiuLu7Df"
      },
      "source": [
        "#add one hot encoding => REGION and count encoding for other categorical features\n",
        "all_data['REGION'] = all_data['REGION'].factorize()[0]\n",
        "all_data['TENURE'] = all_data['TENURE'].map(all_data['TENURE'].value_counts())\n",
        "all_data['TOP_PACK'] = all_data['TOP_PACK'].map(all_data['TOP_PACK'].value_counts())\n",
        "all_data['MRG'] = all_data['MRG'].map(all_data['MRG'].value_counts())"
      ],
      "execution_count": null,
      "outputs": []
    },
    {
      "cell_type": "code",
      "metadata": {
        "id": "_uppBpHdu97l"
      },
      "source": [
        "all_data['TF'] = all_data['REGULARITY'] * all_data['FREQUENCE']\n",
        "all_data['MR'] = all_data['MONTANT'] - all_data['REVENUE']"
      ],
      "execution_count": null,
      "outputs": []
    },
    {
      "cell_type": "code",
      "metadata": {
        "id": "IdkS6edcvHH7"
      },
      "source": [
        "all_train = all_data.loc[all_data['is_train']==1]\n",
        "all_test = all_data.loc[all_data['is_train']==0]"
      ],
      "execution_count": null,
      "outputs": []
    },
    {
      "cell_type": "code",
      "metadata": {
        "id": "i8P5ZdhdvcSm"
      },
      "source": [
        "all_train = all_data.loc[all_data['is_train']==1]\n",
        "all_test = all_data.loc[all_data['is_train']==0]\n"
      ],
      "execution_count": null,
      "outputs": []
    },
    {
      "cell_type": "code",
      "metadata": {
        "id": "-zDi1teFwW8o"
      },
      "source": [
        "features = [c for c in all_train.columns if c not in ['CHURN', 'user_id', 'is_train']]"
      ],
      "execution_count": null,
      "outputs": []
    },
    {
      "cell_type": "markdown",
      "metadata": {
        "id": "FE23rcx__dbW"
      },
      "source": [
        "## Model"
      ]
    },
    {
      "cell_type": "code",
      "metadata": {
        "colab": {
          "base_uri": "https://localhost:8080/",
          "height": 935
        },
        "id": "4J4_mLRtxeso",
        "outputId": "69e1fed8-f6e7-494e-9f56-4ab3b861dbe9"
      },
      "source": [
        "SEED = 0\n",
        "\n",
        "random.seed(SEED)\n",
        "np.random.seed(SEED)\n",
        "\n",
        "err = list()\n",
        "    \n",
        "preds_df = pd.DataFrame()\n",
        "preds_df['user_id'] = all_test['user_id']\n",
        "preds_df['CHURN'] = np.zeros(len(all_test))\n",
        "\n",
        "fold = StratifiedKFold(n_splits= 3, shuffle= True, random_state= 0)\n",
        "\n",
        "i = 1\n",
        "\n",
        "#Standardize\n",
        "scaler = StandardScaler()\n",
        "\n",
        "for train_index, test_index in fold.split(all_train[features], all_train['CHURN']):\n",
        "\n",
        "    print('fold n°: ', i)\n",
        "\n",
        "    x_data, x_val = all_train[features].iloc[train_index], all_train[features].iloc[test_index]\n",
        "\n",
        "    y_data, y_val = all_train['CHURN'].iloc[train_index], all_train['CHURN'].iloc[test_index]\n",
        "        \n",
        "    #x_data, y_data = smote.fit_sample(x_data, y_data)\n",
        "    \n",
        "    scaler.fit(x_data)\n",
        "    \n",
        "    x_data = scaler.transform(x_data)\n",
        "    x_val = scaler.transform(x_val)\n",
        "    x_test = scaler.transform(all_test[features])\n",
        "\n",
        "\n",
        "    \n",
        "    model = CatBoostClassifier(learning_rate= 0.10001, random_state= 0, num_trees= 500, max_depth= 5)\n",
        "    \n",
        "    model.fit(x_data, y_data, eval_set= [(x_val, y_val)], early_stopping_rounds= 300, verbose= 100)\n",
        "        \n",
        "    y_train_pred = model.predict_proba(x_data)\n",
        "\n",
        "    y_test_pred = model.predict_proba(x_val)\n",
        "        \n",
        "    print('log_loss train', log_loss(y_data, y_train_pred))\n",
        "    print('log_loss test', log_loss(y_val, y_test_pred))\n",
        "    \n",
        "    err.append(log_loss(y_val, y_test_pred))\n",
        "    \n",
        "    current_pred = model.predict_proba(x_test)[:,1]\n",
        "        \n",
        "    preds_df['CHURN'] += current_pred / fold.n_splits\n",
        "        \n",
        "    i = i + 1\n",
        "        \n",
        "print('Mean Log_loss test: ', np.mean(err))  \n",
        "\n",
        "preds_df.head()"
      ],
      "execution_count": null,
      "outputs": [
        {
          "output_type": "stream",
          "text": [
            "fold n°:  1\n",
            "0:\tlearn: 0.5568931\ttest: 0.5564343\tbest: 0.5564343 (0)\ttotal: 123ms\tremaining: 1m 1s\n",
            "100:\tlearn: 0.2516897\ttest: 0.2531981\tbest: 0.2531981 (100)\ttotal: 11.7s\tremaining: 46.1s\n",
            "200:\tlearn: 0.2501109\ttest: 0.2526583\tbest: 0.2526583 (200)\ttotal: 22.2s\tremaining: 33s\n",
            "300:\tlearn: 0.2488349\ttest: 0.2525323\tbest: 0.2525310 (298)\ttotal: 32.5s\tremaining: 21.5s\n",
            "400:\tlearn: 0.2476748\ttest: 0.2525529\tbest: 0.2525292 (309)\ttotal: 42.8s\tremaining: 10.6s\n",
            "499:\tlearn: 0.2467569\ttest: 0.2525898\tbest: 0.2525292 (309)\ttotal: 53s\tremaining: 0us\n",
            "\n",
            "bestTest = 0.2525292286\n",
            "bestIteration = 309\n",
            "\n",
            "Shrink model to first 310 iterations.\n",
            "log_loss train 0.24871035093202232\n",
            "log_loss test 0.25252922860049515\n",
            "fold n°:  2\n",
            "0:\tlearn: 0.5562680\ttest: 0.5565481\tbest: 0.5565481 (0)\ttotal: 99ms\tremaining: 49.4s\n",
            "100:\tlearn: 0.2520650\ttest: 0.2528459\tbest: 0.2528459 (100)\ttotal: 10.4s\tremaining: 41.3s\n",
            "200:\tlearn: 0.2504153\ttest: 0.2520969\tbest: 0.2520969 (200)\ttotal: 20.9s\tremaining: 31.1s\n",
            "300:\tlearn: 0.2491846\ttest: 0.2519583\tbest: 0.2519509 (275)\ttotal: 31.6s\tremaining: 20.9s\n",
            "400:\tlearn: 0.2480848\ttest: 0.2518692\tbest: 0.2518645 (399)\ttotal: 42.4s\tremaining: 10.5s\n",
            "499:\tlearn: 0.2471872\ttest: 0.2519105\tbest: 0.2518627 (424)\ttotal: 52.8s\tremaining: 0us\n",
            "\n",
            "bestTest = 0.2518626958\n",
            "bestIteration = 424\n",
            "\n",
            "Shrink model to first 425 iterations.\n",
            "log_loss train 0.24786061291618378\n",
            "log_loss test 0.2518626958194557\n",
            "fold n°:  3\n",
            "0:\tlearn: 0.5564952\ttest: 0.5567007\tbest: 0.5567007 (0)\ttotal: 101ms\tremaining: 50.6s\n",
            "100:\tlearn: 0.2520751\ttest: 0.2525867\tbest: 0.2525867 (100)\ttotal: 10.7s\tremaining: 42.1s\n",
            "200:\tlearn: 0.2503585\ttest: 0.2519889\tbest: 0.2519889 (200)\ttotal: 21.2s\tremaining: 31.5s\n",
            "300:\tlearn: 0.2491862\ttest: 0.2518715\tbest: 0.2518656 (298)\ttotal: 31.6s\tremaining: 20.9s\n",
            "400:\tlearn: 0.2481366\ttest: 0.2519162\tbest: 0.2518594 (341)\ttotal: 41.9s\tremaining: 10.4s\n",
            "499:\tlearn: 0.2472208\ttest: 0.2519396\tbest: 0.2518594 (341)\ttotal: 52.4s\tremaining: 0us\n",
            "\n",
            "bestTest = 0.2518594012\n",
            "bestIteration = 341\n",
            "\n",
            "Shrink model to first 342 iterations.\n",
            "log_loss train 0.2487217001386128\n",
            "log_loss test 0.2518594012469745\n",
            "Mean Log_loss test:  0.25208377522230846\n"
          ],
          "name": "stdout"
        },
        {
          "output_type": "execute_result",
          "data": {
            "text/html": [
              "<div>\n",
              "<style scoped>\n",
              "    .dataframe tbody tr th:only-of-type {\n",
              "        vertical-align: middle;\n",
              "    }\n",
              "\n",
              "    .dataframe tbody tr th {\n",
              "        vertical-align: top;\n",
              "    }\n",
              "\n",
              "    .dataframe thead th {\n",
              "        text-align: right;\n",
              "    }\n",
              "</style>\n",
              "<table border=\"1\" class=\"dataframe\">\n",
              "  <thead>\n",
              "    <tr style=\"text-align: right;\">\n",
              "      <th></th>\n",
              "      <th>user_id</th>\n",
              "      <th>CHURN</th>\n",
              "    </tr>\n",
              "  </thead>\n",
              "  <tbody>\n",
              "    <tr>\n",
              "      <th>0</th>\n",
              "      <td>af900d87e73b7ff6509d2203df4704a98aa5f2a6</td>\n",
              "      <td>0.782949</td>\n",
              "    </tr>\n",
              "    <tr>\n",
              "      <th>1</th>\n",
              "      <td>5335efd940280b82143272275637d1e65d37eadb</td>\n",
              "      <td>0.657167</td>\n",
              "    </tr>\n",
              "    <tr>\n",
              "      <th>2</th>\n",
              "      <td>a581f4fa08677c26f83f643248c667e241043086</td>\n",
              "      <td>0.142639</td>\n",
              "    </tr>\n",
              "    <tr>\n",
              "      <th>3</th>\n",
              "      <td>64f67177d0775262b8087a9e2e3b8061b6324ae6</td>\n",
              "      <td>0.000795</td>\n",
              "    </tr>\n",
              "    <tr>\n",
              "      <th>4</th>\n",
              "      <td>0d6009a4594c4be22449b8d9cc01a0bcea98faea</td>\n",
              "      <td>0.000180</td>\n",
              "    </tr>\n",
              "  </tbody>\n",
              "</table>\n",
              "</div>"
            ],
            "text/plain": [
              "                                    user_id     CHURN\n",
              "0  af900d87e73b7ff6509d2203df4704a98aa5f2a6  0.782949\n",
              "1  5335efd940280b82143272275637d1e65d37eadb  0.657167\n",
              "2  a581f4fa08677c26f83f643248c667e241043086  0.142639\n",
              "3  64f67177d0775262b8087a9e2e3b8061b6324ae6  0.000795\n",
              "4  0d6009a4594c4be22449b8d9cc01a0bcea98faea  0.000180"
            ]
          },
          "metadata": {
            "tags": []
          },
          "execution_count": 94
        }
      ]
    },
    {
      "cell_type": "code",
      "metadata": {
        "id": "4P-sV607V8_-"
      },
      "source": [
        "preds_df"
      ],
      "execution_count": null,
      "outputs": []
    }
  ]
}